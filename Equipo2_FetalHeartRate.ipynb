{
 "cells": [
  {
   "attachments": {},
   "cell_type": "markdown",
   "id": "65bb6d51",
   "metadata": {},
   "source": [
    "# Analysis & Classification of Fetal Heart Rates\n",
    "\n",
    "### Team 2\n",
    "- Juan Pablo Díaz López\n",
    "- Jose Pablo González Flores\n",
    "- Juan Sebastian Neira González"
   ]
  },
  {
   "cell_type": "code",
   "execution_count": null,
   "id": "dcf8756a",
   "metadata": {},
   "outputs": [],
   "source": [
    "#Library importation\n",
    "import os\n",
    "import pandas as pd\n",
    "import numpy as np\n",
    "from matplotlib import pyplot as plt\n",
    "import seaborn as sns\n",
    "from sklearn.preprocessing import MinMaxScaler\n",
    "from sklearn.preprocessing import StandardScaler\n",
    "from sklearn.ensemble import RandomForestClassifier\n",
    "from sklearn.metrics import accuracy_score, confusion_matrix, classification_report\n",
    "from sklearn.model_selection import train_test_split\n",
    "from dotenv import load_dotenv\n",
    "from plotting import Plotting"
   ]
  },
  {
   "cell_type": "code",
   "execution_count": null,
   "id": "0f6de777",
   "metadata": {},
   "outputs": [],
   "source": [
    "#upload data into Dataframe\n",
    "data= pd.read_excel(os.getenv('CTG'),sheet_name=os.getenv('CTG_sheet'),skiprows=1)"
   ]
  },
  {
   "cell_type": "code",
   "execution_count": null,
   "id": "ba3a333e",
   "metadata": {},
   "outputs": [],
   "source": [
    "#delete unnamed columns\n",
    "data = data.loc[:, ~data.columns.str.contains('^Unnamed')]\n",
    "\n",
    "#select important columns, drop raw data\n",
    "col = ['b','e','AC','FM','UC','DL','DS','DP','DR','NSP', 'A', 'B', 'C' ,'D', 'E', 'AD', 'DE', 'LD', 'FS', 'SUSP']\n",
    "data = data.drop(columns=col)"
   ]
  },
  {
   "cell_type": "code",
   "execution_count": null,
   "id": "be3b18b0",
   "metadata": {},
   "outputs": [],
   "source": [
    "data.head(5)"
   ]
  },
  {
   "cell_type": "code",
   "execution_count": null,
   "id": "6c0a79b8",
   "metadata": {
    "scrolled": true
   },
   "outputs": [],
   "source": [
    "data.isna().sum()"
   ]
  },
  {
   "cell_type": "code",
   "execution_count": null,
   "id": "89534ea5",
   "metadata": {},
   "outputs": [],
   "source": [
    "data = data.dropna()"
   ]
  },
  {
   "cell_type": "code",
   "execution_count": null,
   "id": "9f5895d5",
   "metadata": {},
   "outputs": [],
   "source": [
    "new_names = {'LB': 'bl_FHR', \n",
    "             'AC.1': 'accel', \n",
    "             'FM.1': 'fetal_mov', \n",
    "             'UC.1': 'uterine_contr', \n",
    "             'DL.1': 'light_decel', \n",
    "             'DS.1': 'severe_decel', \n",
    "             'DP.1': 'prolong_decel', \n",
    "             'SH':'sh_pattern', \n",
    "             'AD':'ad_pattern', \n",
    "             'DE':'de_pattern', \n",
    "             'LD': 'ld_pattern', \n",
    "             'FS': 'fs_pattern', \n",
    "             'SUSP': 'sus_pattern'}\n",
    "data.rename(columns = new_names, inplace=True)"
   ]
  },
  {
   "cell_type": "code",
   "execution_count": null,
   "id": "3102fac0",
   "metadata": {},
   "outputs": [],
   "source": [
    "data.info()"
   ]
  },
  {
   "cell_type": "markdown",
   "id": "2c3a8b51",
   "metadata": {},
   "source": [
    "# EDA"
   ]
  },
  {
   "cell_type": "markdown",
   "id": "74be9bd8",
   "metadata": {},
   "source": [
    "## EDA Univariate\n",
    "\n",
    "### feature baseline_FHR (Fetal Heart Rate)"
   ]
  },
  {
   "cell_type": "code",
   "execution_count": null,
   "id": "6596e239",
   "metadata": {},
   "outputs": [],
   "source": [
    "plotter = Plotting(plot_option=1, x='bl_FHR', data=data)\n",
    "plotter.plot()"
   ]
  },
  {
   "cell_type": "markdown",
   "id": "db574f5b",
   "metadata": {},
   "source": [
    "#### Conclusion\n",
    "The main statistics are:\n",
    "- mean: 133.3038\n",
    "- median: 133.0000\n",
    "- sdt dev: 9.8408\n",
    "\n",
    "There doesn´t seem to be any outliers in the distribution"
   ]
  },
  {
   "cell_type": "markdown",
   "id": "18f62cd9",
   "metadata": {},
   "source": [
    "### Feature acceleration"
   ]
  },
  {
   "cell_type": "code",
   "execution_count": null,
   "id": "4c6daf88",
   "metadata": {},
   "outputs": [],
   "source": [
    "plotter = Plotting(plot_option=1, x='accel', data=data)\n",
    "plotter.plot()"
   ]
  },
  {
   "cell_type": "markdown",
   "id": "ead8f9b8",
   "metadata": {},
   "source": [
    "#### Conclusion\n",
    "The main statistics are:\n",
    "- mean: 0.0031\n",
    "- median: 0.0016\n",
    "- sdt dev: 0.0038\n",
    "\n",
    "While there are outlier values that appear in the distribution, they are close enough to take them as part of the main distribution"
   ]
  },
  {
   "cell_type": "markdown",
   "id": "2cf20213",
   "metadata": {},
   "source": [
    "### Feature fetal movement"
   ]
  },
  {
   "cell_type": "code",
   "execution_count": null,
   "id": "38f3af69",
   "metadata": {},
   "outputs": [],
   "source": [
    "plotter = Plotting(plot_option=1, x='fetal_mov', data=data)\n",
    "plotter.plot()"
   ]
  },
  {
   "cell_type": "markdown",
   "id": "1000bdf0",
   "metadata": {},
   "source": [
    "#### Conclusion\n",
    "The main statistics are:\n",
    "- mean: 0.0094\n",
    "- median: 0.0000\n",
    "- sdt dev: 0.0466\n",
    "- outlier-rule : >= 0.2"
   ]
  },
  {
   "cell_type": "markdown",
   "id": "71e61d3e",
   "metadata": {},
   "source": [
    "### Feature uterine contractions"
   ]
  },
  {
   "cell_type": "code",
   "execution_count": null,
   "id": "bd6f2a43",
   "metadata": {},
   "outputs": [],
   "source": [
    "plotter = Plotting(plot_option=1, x='uterine_contr', data=data)\n",
    "plotter.plot()"
   ]
  },
  {
   "cell_type": "markdown",
   "id": "c32902dd",
   "metadata": {},
   "source": [
    "#### Conclusion\n",
    "The main statistics are:\n",
    "- mean: 0.0043\n",
    "- median: 0.0044\n",
    "- sdt dev: 0.0029"
   ]
  },
  {
   "cell_type": "markdown",
   "id": "d0bf8edf",
   "metadata": {},
   "source": [
    "### Feature light decelerations"
   ]
  },
  {
   "cell_type": "code",
   "execution_count": null,
   "id": "9e11bbef",
   "metadata": {},
   "outputs": [],
   "source": [
    "plotter = Plotting(plot_option=1, x='light_decel', data=data)\n",
    "plotter.plot()"
   ]
  },
  {
   "cell_type": "markdown",
   "id": "87841117",
   "metadata": {},
   "source": [
    "#### Conclusion\n",
    "The main statistics are:\n",
    "- mean: 0.0018\n",
    "- median: 0.0000\n",
    "- sdt dev: 0.0029"
   ]
  },
  {
   "cell_type": "markdown",
   "id": "209b5e81",
   "metadata": {},
   "source": [
    "### Feature severe decelerations"
   ]
  },
  {
   "cell_type": "code",
   "execution_count": null,
   "id": "74a5c796",
   "metadata": {},
   "outputs": [],
   "source": [
    "plotter = Plotting(plot_option=1, x='severe_decel', data=data)\n",
    "plotter.plot()"
   ]
  },
  {
   "cell_type": "markdown",
   "id": "dd88e973",
   "metadata": {},
   "source": [
    "#### Conclusion\n",
    "The main statistics are:\n",
    "- mean: 0.000004\n",
    "- median: 0.000000\n",
    "- sdt dev: 0.000063\n",
    "- outlier rule: >= 0.0008"
   ]
  },
  {
   "cell_type": "markdown",
   "id": "42792cd6",
   "metadata": {},
   "source": [
    "### Feature prolonged decelerations"
   ]
  },
  {
   "cell_type": "code",
   "execution_count": null,
   "id": "49a569c1",
   "metadata": {},
   "outputs": [],
   "source": [
    "plotter = Plotting(plot_option=1, x='prolong_decel', data=data)\n",
    "plotter.plot()"
   ]
  },
  {
   "cell_type": "markdown",
   "id": "a0264f39",
   "metadata": {},
   "source": [
    "#### Conclusion\n",
    "The main statistics are:\n",
    "- mean: 0.000157\n",
    "- median: 0.000000\n",
    "- sdt dev: 0.00058\n",
    "- outlier rule: >= 0.002"
   ]
  },
  {
   "cell_type": "markdown",
   "id": "70d9d0c5",
   "metadata": {},
   "source": [
    "### Feature abnormal short term variability (ASTV)"
   ]
  },
  {
   "cell_type": "code",
   "execution_count": null,
   "id": "78536172",
   "metadata": {},
   "outputs": [],
   "source": [
    "plotter = Plotting(plot_option=1, x='ASTV', data=data)\n",
    "plotter.plot()"
   ]
  },
  {
   "cell_type": "markdown",
   "id": "54ad4068",
   "metadata": {},
   "source": [
    "#### Conclusion\n",
    "The main statistics are:\n",
    "- mean: 46.9901\n",
    "- median: 49.0000\n",
    "- sdt dev: 17.1928"
   ]
  },
  {
   "cell_type": "markdown",
   "id": "6b5f8da9",
   "metadata": {},
   "source": [
    "### Feature mean value short term variability (MSTV)"
   ]
  },
  {
   "cell_type": "code",
   "execution_count": null,
   "id": "7dd812b7",
   "metadata": {},
   "outputs": [],
   "source": [
    "plotter = Plotting(plot_option=1, x='MSTV', data=data)\n",
    "plotter.plot()"
   ]
  },
  {
   "cell_type": "markdown",
   "id": "7552460f",
   "metadata": {},
   "source": [
    "#### Conclusion\n",
    "The main statistics are:\n",
    "- mean: 1.3327\n",
    "- median: 1.2000\n",
    "- sdt dev: 0.8832\n",
    "- outlier rule: >= 5"
   ]
  },
  {
   "cell_type": "markdown",
   "id": "62baeac3",
   "metadata": {},
   "source": [
    "### Feature abnormal long term variability (ALTV)"
   ]
  },
  {
   "cell_type": "code",
   "execution_count": null,
   "id": "15df104a",
   "metadata": {},
   "outputs": [],
   "source": [
    "plotter = Plotting(plot_option=1, x='ALTV', data=data)\n",
    "plotter.plot()"
   ]
  },
  {
   "cell_type": "markdown",
   "id": "3e4af6bc",
   "metadata": {},
   "source": [
    "#### Conclusion\n",
    "The main statistics are:\n",
    "- mean: 9.8466\n",
    "- median: 0.0000\n",
    "- sdt dev: 18.3968\n",
    "- outlier rule: >= 70"
   ]
  },
  {
   "cell_type": "markdown",
   "id": "3e739680",
   "metadata": {},
   "source": [
    "### Feature mean value long term variability (MLTV)"
   ]
  },
  {
   "cell_type": "code",
   "execution_count": null,
   "id": "3442d8f8",
   "metadata": {},
   "outputs": [],
   "source": [
    "plotter = Plotting(plot_option=1, x='MLTV', data=data)\n",
    "plotter.plot()"
   ]
  },
  {
   "cell_type": "markdown",
   "id": "bfc8d644",
   "metadata": {},
   "source": [
    "#### Conclusion\n",
    "The main statistics are:\n",
    "- mean: 8.1876\n",
    "- median: 7.4000\n",
    "- sdt dev: 5.6282\n",
    "- outlier rule: >= 30"
   ]
  },
  {
   "cell_type": "markdown",
   "id": "8c056904",
   "metadata": {},
   "source": [
    "### Feature Width"
   ]
  },
  {
   "cell_type": "code",
   "execution_count": null,
   "id": "b3d9b7f3",
   "metadata": {},
   "outputs": [],
   "source": [
    "plotter = Plotting(plot_option=1, x='Width', data=data)\n",
    "plotter.plot()"
   ]
  },
  {
   "cell_type": "markdown",
   "id": "b7561e55",
   "metadata": {},
   "source": [
    "#### Conclusion\n",
    "The main statistics are:\n",
    "- mean: 70.4459\n",
    "- median: 67.5000\n",
    "- sdt dev: 38.9557"
   ]
  },
  {
   "cell_type": "markdown",
   "id": "fa8737e2",
   "metadata": {},
   "source": [
    "### Feature min"
   ]
  },
  {
   "cell_type": "code",
   "execution_count": null,
   "id": "cc7fbbeb",
   "metadata": {},
   "outputs": [],
   "source": [
    "plotter = Plotting(plot_option=1, x='Min', data=data)\n",
    "plotter.plot()"
   ]
  },
  {
   "cell_type": "markdown",
   "id": "808c0a4b",
   "metadata": {},
   "source": [
    "#### Conclusion\n",
    "The main statistics are:\n",
    "- mean: 93.5795\n",
    "- median: 93.0000\n",
    "- sdt dev: 29.5602"
   ]
  },
  {
   "cell_type": "markdown",
   "id": "93ab34c5",
   "metadata": {},
   "source": [
    "### Feature max"
   ]
  },
  {
   "cell_type": "code",
   "execution_count": null,
   "id": "a65bc53f",
   "metadata": {},
   "outputs": [],
   "source": [
    "plotter = Plotting(plot_option=1, x='Max', data=data)\n",
    "plotter.plot()"
   ]
  },
  {
   "cell_type": "markdown",
   "id": "8d5c1009",
   "metadata": {},
   "source": [
    "#### Conclusion\n",
    "The main statistics are:\n",
    "- mean: 164.0254\n",
    "- median: 162.0000\n",
    "- sdt dev: 17.9441\n",
    "- outlier rule: >= 220"
   ]
  },
  {
   "cell_type": "markdown",
   "id": "daccf597",
   "metadata": {},
   "source": [
    "### Feature Nmax"
   ]
  },
  {
   "cell_type": "code",
   "execution_count": null,
   "id": "0a644497",
   "metadata": {},
   "outputs": [],
   "source": [
    "plotter = Plotting(plot_option=1, x='Nmax', data=data)\n",
    "plotter.plot()"
   ]
  },
  {
   "cell_type": "markdown",
   "id": "2e02db9d",
   "metadata": {},
   "source": [
    "#### Conclusion\n",
    "The main statistics are:\n",
    "- mean: 4.0682\n",
    "- median: 3.0000\n",
    "- sdt dev: 2.9494"
   ]
  },
  {
   "cell_type": "markdown",
   "id": "a80b5255",
   "metadata": {},
   "source": [
    "### Feature Nzeros"
   ]
  },
  {
   "cell_type": "code",
   "execution_count": null,
   "id": "3f633c18",
   "metadata": {
    "scrolled": true
   },
   "outputs": [],
   "source": [
    "plotter = Plotting(plot_option=1, x='Nzeros', data=data)\n",
    "plotter.plot()"
   ]
  },
  {
   "cell_type": "markdown",
   "id": "fafcaa30",
   "metadata": {},
   "source": [
    "#### Conclusion\n",
    "The main statistics are:\n",
    "- mean: 0.3236\n",
    "- median: 0.0000\n",
    "- sdt dev: 0.7060\n",
    "- outlier rule: >= 6"
   ]
  },
  {
   "cell_type": "markdown",
   "id": "405bcc30",
   "metadata": {},
   "source": [
    "### Feature Mode"
   ]
  },
  {
   "cell_type": "code",
   "execution_count": null,
   "id": "7877d62e",
   "metadata": {},
   "outputs": [],
   "source": [
    "plotter = Plotting(plot_option=1, x='Mode', data=data)\n",
    "plotter.plot()"
   ]
  },
  {
   "cell_type": "markdown",
   "id": "ee84e62c",
   "metadata": {},
   "source": [
    "#### Conclusion\n",
    "The main statistics are:\n",
    "- mean: 137.4520\n",
    "- median: 139.0000\n",
    "- sdt dev: 16.3813\n",
    "- outlier rule: < 70"
   ]
  },
  {
   "cell_type": "markdown",
   "id": "8dcf919d",
   "metadata": {},
   "source": [
    "### Feature Mean"
   ]
  },
  {
   "cell_type": "code",
   "execution_count": null,
   "id": "2e89173e",
   "metadata": {},
   "outputs": [],
   "source": [
    "plotter = Plotting(plot_option=1, x='Mean', data=data)\n",
    "plotter.plot()"
   ]
  },
  {
   "cell_type": "markdown",
   "id": "bb0ad768",
   "metadata": {},
   "source": [
    "#### Conclusion\n",
    "The main statistics are:\n",
    "- mean: 134.6105\n",
    "- median: 136.0000\n",
    "- sdt dev: 15.5935"
   ]
  },
  {
   "cell_type": "markdown",
   "id": "32928465",
   "metadata": {},
   "source": [
    "### Feature Median"
   ]
  },
  {
   "cell_type": "code",
   "execution_count": null,
   "id": "6abf3dad",
   "metadata": {},
   "outputs": [],
   "source": [
    "plotter = Plotting(plot_option=1, x='Median', data=data)\n",
    "plotter.plot()"
   ]
  },
  {
   "cell_type": "markdown",
   "id": "8c65d996",
   "metadata": {},
   "source": [
    "#### Conclusion\n",
    "The main statistics are:\n",
    "- mean: 138.0903\n",
    "- median: 139.0000\n",
    "- sdt dev: 14.4666"
   ]
  },
  {
   "cell_type": "markdown",
   "id": "e234a564",
   "metadata": {},
   "source": [
    "### Feature Variance"
   ]
  },
  {
   "cell_type": "code",
   "execution_count": null,
   "id": "98582ffb",
   "metadata": {},
   "outputs": [],
   "source": [
    "plotter = Plotting(plot_option=1, x='Variance', data=data)\n",
    "plotter.plot()"
   ]
  },
  {
   "cell_type": "markdown",
   "id": "823a5e56",
   "metadata": {},
   "source": [
    "#### Conclusion\n",
    "The main statistics are:\n",
    "- mean: 18.8081\n",
    "- median: 7.0000\n",
    "- sdt dev: 28.9776\n",
    "- outlier rule: >= 200"
   ]
  },
  {
   "cell_type": "markdown",
   "id": "101f35d3",
   "metadata": {},
   "source": [
    "### Feature Tendency"
   ]
  },
  {
   "cell_type": "code",
   "execution_count": null,
   "id": "8ad75f00",
   "metadata": {},
   "outputs": [],
   "source": [
    "x=\"Tendency\"\n",
    "pd.DataFrame(data[x].value_counts(normalize=True)).plot.barh()\n",
    "plt.title(\"Bar plot of \"+x)\n",
    "plt.show()\n",
    "data[x].describe()"
   ]
  },
  {
   "cell_type": "markdown",
   "id": "7bfdd71e",
   "metadata": {},
   "source": [
    "#### Conclusion\n",
    "The tendency of the histograms from most of the instances are 0, so they are symmetric, from there, most of the tendencies are positive"
   ]
  },
  {
   "cell_type": "markdown",
   "id": "317fce32",
   "metadata": {},
   "source": [
    "### Feature Class"
   ]
  },
  {
   "cell_type": "code",
   "execution_count": null,
   "id": "6edede46",
   "metadata": {},
   "outputs": [],
   "source": [
    "x=\"CLASS\"\n",
    "pd.DataFrame(data[x].value_counts(normalize=True)).plot.bar()\n",
    "plt.title(\"Bar plot of \"+x)\n",
    "plt.show()\n",
    "data[x].describe()"
   ]
  },
  {
   "cell_type": "markdown",
   "id": "cabec0f9",
   "metadata": {},
   "source": [
    "#### Conclusion\n",
    "Over 25% of the entries are categorized as class 2, being the largest of the classifications.\n",
    "The class with the least entries is 3"
   ]
  },
  {
   "cell_type": "markdown",
   "id": "949ba638",
   "metadata": {},
   "source": [
    "## EDA to target variable"
   ]
  },
  {
   "cell_type": "markdown",
   "id": "f36a915e",
   "metadata": {},
   "source": [
    "### Feature baseline FHR vs Class"
   ]
  },
  {
   "cell_type": "code",
   "execution_count": null,
   "id": "6d046fc1",
   "metadata": {},
   "outputs": [],
   "source": [
    "plotter = Plotting(plot_option=2, x='bl_FHR', data=data)\n",
    "plotter.plot()"
   ]
  },
  {
   "cell_type": "code",
   "execution_count": null,
   "id": "699ac648",
   "metadata": {},
   "outputs": [],
   "source": [
    "data[[\"bl_FHR\",\"CLASS\"]].groupby(\"CLASS\").mean().add_suffix(\"_mean\").round(2)"
   ]
  },
  {
   "cell_type": "code",
   "execution_count": null,
   "id": "240f211e",
   "metadata": {},
   "outputs": [],
   "source": [
    "data[[\"bl_FHR\",\"CLASS\"]].groupby(\"CLASS\").median().add_suffix(\"_median\")"
   ]
  },
  {
   "cell_type": "code",
   "execution_count": null,
   "id": "bc41f7bd",
   "metadata": {},
   "outputs": [],
   "source": [
    "data[[\"bl_FHR\",\"CLASS\"]].groupby(\"CLASS\").std().add_suffix(\"_std\")"
   ]
  },
  {
   "cell_type": "markdown",
   "id": "aa77e514",
   "metadata": {},
   "source": [
    "### Feature acceleration vs Class"
   ]
  },
  {
   "cell_type": "code",
   "execution_count": null,
   "id": "674ce051",
   "metadata": {},
   "outputs": [],
   "source": [
    "plotter = Plotting(plot_option=2, x='accel', data=data)\n",
    "plotter.plot()"
   ]
  },
  {
   "cell_type": "code",
   "execution_count": null,
   "id": "58246e98",
   "metadata": {},
   "outputs": [],
   "source": [
    "data[[\"accel\",\"CLASS\"]].groupby(\"CLASS\").mean().add_suffix(\"_mean\").round(4)"
   ]
  },
  {
   "cell_type": "code",
   "execution_count": null,
   "id": "7c523f07",
   "metadata": {},
   "outputs": [],
   "source": [
    "data[[\"accel\",\"CLASS\"]].groupby(\"CLASS\").median().add_suffix(\"_median\")"
   ]
  },
  {
   "cell_type": "code",
   "execution_count": null,
   "id": "86463162",
   "metadata": {},
   "outputs": [],
   "source": [
    "data[[\"accel\",\"CLASS\"]].groupby(\"CLASS\").std().add_suffix(\"_std\")"
   ]
  },
  {
   "cell_type": "markdown",
   "id": "7a0166cb",
   "metadata": {},
   "source": [
    "### Feature fetal movement vs Class"
   ]
  },
  {
   "cell_type": "code",
   "execution_count": null,
   "id": "89727b39",
   "metadata": {},
   "outputs": [],
   "source": [
    "plotter = Plotting(plot_option=2, x='fetal_mov', data=data)\n",
    "plotter.plot()"
   ]
  },
  {
   "cell_type": "code",
   "execution_count": null,
   "id": "7b5bcb0f",
   "metadata": {},
   "outputs": [],
   "source": [
    "data[[\"fetal_mov\",\"CLASS\"]].groupby(\"CLASS\").mean().add_suffix(\"_mean\").round(4)"
   ]
  },
  {
   "cell_type": "code",
   "execution_count": null,
   "id": "ec3a1c65",
   "metadata": {},
   "outputs": [],
   "source": [
    "data[[\"fetal_mov\",\"CLASS\"]].groupby(\"CLASS\").median().add_suffix(\"_median\")"
   ]
  },
  {
   "cell_type": "code",
   "execution_count": null,
   "id": "6690746b",
   "metadata": {},
   "outputs": [],
   "source": [
    "data[[\"fetal_mov\",\"CLASS\"]].groupby(\"CLASS\").std().add_suffix(\"_std\")"
   ]
  },
  {
   "cell_type": "markdown",
   "id": "c5042669",
   "metadata": {},
   "source": [
    "### Feature uterine contraction vs Class"
   ]
  },
  {
   "cell_type": "code",
   "execution_count": null,
   "id": "d91e9e9d",
   "metadata": {},
   "outputs": [],
   "source": [
    "plotter = Plotting(plot_option=2, x='uterine_contr', data=data)\n",
    "plotter.plot()"
   ]
  },
  {
   "cell_type": "code",
   "execution_count": null,
   "id": "d49fda84",
   "metadata": {},
   "outputs": [],
   "source": [
    "data[[\"uterine_contr\",\"CLASS\"]].groupby(\"CLASS\").mean().add_suffix(\"_mean\").round(4)"
   ]
  },
  {
   "cell_type": "code",
   "execution_count": null,
   "id": "779a7e78",
   "metadata": {},
   "outputs": [],
   "source": [
    "data[[\"uterine_contr\",\"CLASS\"]].groupby(\"CLASS\").median().add_suffix(\"_median\")"
   ]
  },
  {
   "cell_type": "code",
   "execution_count": null,
   "id": "efa6ccc9",
   "metadata": {},
   "outputs": [],
   "source": [
    "data[[\"uterine_contr\",\"CLASS\"]].groupby(\"CLASS\").std().add_suffix(\"_std\")"
   ]
  },
  {
   "cell_type": "markdown",
   "id": "73ca42c5",
   "metadata": {},
   "source": [
    "### Feature light deceleration vs Class"
   ]
  },
  {
   "cell_type": "code",
   "execution_count": null,
   "id": "bf8afccc",
   "metadata": {},
   "outputs": [],
   "source": [
    "plotter = Plotting(plot_option=2, x='light_decel', data=data)\n",
    "plotter.plot()"
   ]
  },
  {
   "cell_type": "code",
   "execution_count": null,
   "id": "9a0a7041",
   "metadata": {},
   "outputs": [],
   "source": [
    "data[[\"light_decel\",\"CLASS\"]].groupby(\"CLASS\").mean().add_suffix(\"_mean\").round(6)"
   ]
  },
  {
   "cell_type": "code",
   "execution_count": null,
   "id": "98ce854b",
   "metadata": {},
   "outputs": [],
   "source": [
    "data[[\"light_decel\",\"CLASS\"]].groupby(\"CLASS\").median().add_suffix(\"_median\")"
   ]
  },
  {
   "cell_type": "code",
   "execution_count": null,
   "id": "c4ac6934",
   "metadata": {},
   "outputs": [],
   "source": [
    "data[[\"light_decel\",\"CLASS\"]].groupby(\"CLASS\").std().add_suffix(\"_std\")"
   ]
  },
  {
   "cell_type": "markdown",
   "id": "afa284bd",
   "metadata": {},
   "source": [
    "### Feature severe deceleration vs Class"
   ]
  },
  {
   "cell_type": "code",
   "execution_count": null,
   "id": "e73d5338",
   "metadata": {},
   "outputs": [],
   "source": [
    "plotter = Plotting(plot_option=2, x='severe_decel', data=data)\n",
    "plotter.plot()"
   ]
  },
  {
   "cell_type": "code",
   "execution_count": null,
   "id": "cf484e2d",
   "metadata": {},
   "outputs": [],
   "source": [
    "data[[\"severe_decel\",\"CLASS\"]].groupby(\"CLASS\").mean().add_suffix(\"_mean\").round(6)"
   ]
  },
  {
   "cell_type": "code",
   "execution_count": null,
   "id": "c71c66b4",
   "metadata": {},
   "outputs": [],
   "source": [
    "data[[\"severe_decel\",\"CLASS\"]].groupby(\"CLASS\").median().add_suffix(\"_median\")"
   ]
  },
  {
   "cell_type": "code",
   "execution_count": null,
   "id": "acb5b07a",
   "metadata": {},
   "outputs": [],
   "source": [
    "data[[\"severe_decel\",\"CLASS\"]].groupby(\"CLASS\").std().add_suffix(\"_std\")"
   ]
  },
  {
   "cell_type": "markdown",
   "id": "e2190e5d",
   "metadata": {},
   "source": [
    "### Feature prolonged deceleration vs Class"
   ]
  },
  {
   "cell_type": "code",
   "execution_count": null,
   "id": "66863260",
   "metadata": {},
   "outputs": [],
   "source": [
    "plotter = Plotting(plot_option=2, x='prolong_decel', data=data)\n",
    "plotter.plot()"
   ]
  },
  {
   "cell_type": "code",
   "execution_count": null,
   "id": "5dbdb7fc",
   "metadata": {},
   "outputs": [],
   "source": [
    "data[[\"prolong_decel\",\"CLASS\"]].groupby(\"CLASS\").mean().add_suffix(\"_mean\").round(6)"
   ]
  },
  {
   "cell_type": "code",
   "execution_count": null,
   "id": "3cf3bb07",
   "metadata": {},
   "outputs": [],
   "source": [
    "data[[\"prolong_decel\",\"CLASS\"]].groupby(\"CLASS\").median().add_suffix(\"_median\")"
   ]
  },
  {
   "cell_type": "code",
   "execution_count": null,
   "id": "b21c6c15",
   "metadata": {},
   "outputs": [],
   "source": [
    "data[[\"prolong_decel\",\"CLASS\"]].groupby(\"CLASS\").std().add_suffix(\"_std\")"
   ]
  },
  {
   "cell_type": "markdown",
   "id": "f955cc5d",
   "metadata": {},
   "source": [
    "### Feature ASTV vs Class"
   ]
  },
  {
   "cell_type": "code",
   "execution_count": null,
   "id": "dc4f4189",
   "metadata": {},
   "outputs": [],
   "source": [
    "plotter = Plotting(plot_option=2, x='ASTV', data=data)\n",
    "plotter.plot()"
   ]
  },
  {
   "cell_type": "code",
   "execution_count": null,
   "id": "c0131d3b",
   "metadata": {},
   "outputs": [],
   "source": [
    "data[[\"ASTV\",\"CLASS\"]].groupby(\"CLASS\").mean().add_suffix(\"_mean\").round(2)"
   ]
  },
  {
   "cell_type": "code",
   "execution_count": null,
   "id": "915262b6",
   "metadata": {},
   "outputs": [],
   "source": [
    "data[[\"ASTV\",\"CLASS\"]].groupby(\"CLASS\").median().add_suffix(\"_median\")"
   ]
  },
  {
   "cell_type": "code",
   "execution_count": null,
   "id": "c223c3ff",
   "metadata": {},
   "outputs": [],
   "source": [
    "data[[\"ASTV\",\"CLASS\"]].groupby(\"CLASS\").std().add_suffix(\"_std\")"
   ]
  },
  {
   "cell_type": "markdown",
   "id": "87b23b3b",
   "metadata": {},
   "source": [
    "### Feature MSTV vs Class"
   ]
  },
  {
   "cell_type": "code",
   "execution_count": null,
   "id": "73a180fc",
   "metadata": {},
   "outputs": [],
   "source": [
    "plotter = Plotting(plot_option=2, x='MSTV', data=data)\n",
    "plotter.plot()"
   ]
  },
  {
   "cell_type": "code",
   "execution_count": null,
   "id": "532964e6",
   "metadata": {},
   "outputs": [],
   "source": [
    "data[[\"MSTV\",\"CLASS\"]].groupby(\"CLASS\").mean().add_suffix(\"_mean\").round(2)"
   ]
  },
  {
   "cell_type": "code",
   "execution_count": null,
   "id": "0e845ec5",
   "metadata": {},
   "outputs": [],
   "source": [
    "data[[\"MSTV\",\"CLASS\"]].groupby(\"CLASS\").median().add_suffix(\"_median\")"
   ]
  },
  {
   "cell_type": "code",
   "execution_count": null,
   "id": "3c649e26",
   "metadata": {},
   "outputs": [],
   "source": [
    "data[[\"MSTV\",\"CLASS\"]].groupby(\"CLASS\").std().add_suffix(\"_std\")"
   ]
  },
  {
   "cell_type": "markdown",
   "id": "81c119b4",
   "metadata": {},
   "source": [
    "### Feature ALTV vs Class"
   ]
  },
  {
   "cell_type": "code",
   "execution_count": null,
   "id": "b296dff1",
   "metadata": {},
   "outputs": [],
   "source": [
    "plotter = Plotting(plot_option=2, x='ALTV', data=data)\n",
    "plotter.plot()"
   ]
  },
  {
   "cell_type": "code",
   "execution_count": null,
   "id": "0b636c15",
   "metadata": {},
   "outputs": [],
   "source": [
    "data[[\"ALTV\",\"CLASS\"]].groupby(\"CLASS\").mean().add_suffix(\"_mean\").round(2)"
   ]
  },
  {
   "cell_type": "code",
   "execution_count": null,
   "id": "ece976fd",
   "metadata": {},
   "outputs": [],
   "source": [
    "data[[\"ALTV\",\"CLASS\"]].groupby(\"CLASS\").median().add_suffix(\"_median\")"
   ]
  },
  {
   "cell_type": "code",
   "execution_count": null,
   "id": "498e2861",
   "metadata": {},
   "outputs": [],
   "source": [
    "data[[\"ALTV\",\"CLASS\"]].groupby(\"CLASS\").std().add_suffix(\"_std\")"
   ]
  },
  {
   "cell_type": "markdown",
   "id": "c4e2252c",
   "metadata": {},
   "source": [
    "### Feature MLTV vs Class"
   ]
  },
  {
   "cell_type": "code",
   "execution_count": null,
   "id": "a241eaef",
   "metadata": {},
   "outputs": [],
   "source": [
    "plotter = Plotting(plot_option=2, x='MLTV', data=data)\n",
    "plotter.plot()"
   ]
  },
  {
   "cell_type": "code",
   "execution_count": null,
   "id": "70e22ca2",
   "metadata": {},
   "outputs": [],
   "source": [
    "data[[\"MLTV\",\"CLASS\"]].groupby(\"CLASS\").mean().add_suffix(\"_mean\").round(2)"
   ]
  },
  {
   "cell_type": "code",
   "execution_count": null,
   "id": "d589ba9d",
   "metadata": {
    "scrolled": true
   },
   "outputs": [],
   "source": [
    "data[[\"MLTV\",\"CLASS\"]].groupby(\"CLASS\").median().add_suffix(\"_median\")"
   ]
  },
  {
   "cell_type": "code",
   "execution_count": null,
   "id": "98902826",
   "metadata": {},
   "outputs": [],
   "source": [
    "data[[\"MLTV\",\"CLASS\"]].groupby(\"CLASS\").std().add_suffix(\"_std\")"
   ]
  },
  {
   "cell_type": "markdown",
   "id": "7229f52f",
   "metadata": {},
   "source": [
    "### Feature Width vs Class"
   ]
  },
  {
   "cell_type": "code",
   "execution_count": null,
   "id": "a8ac0d9e",
   "metadata": {},
   "outputs": [],
   "source": [
    "plotter = Plotting(plot_option=2, x='Width', data=data)\n",
    "plotter.plot()"
   ]
  },
  {
   "cell_type": "code",
   "execution_count": null,
   "id": "d84c85bb",
   "metadata": {},
   "outputs": [],
   "source": [
    "data[[\"Width\",\"CLASS\"]].groupby(\"CLASS\").mean().add_suffix(\"_mean\").round(4)"
   ]
  },
  {
   "cell_type": "code",
   "execution_count": null,
   "id": "18cb662f",
   "metadata": {},
   "outputs": [],
   "source": [
    "data[[\"Width\",\"CLASS\"]].groupby(\"CLASS\").median().add_suffix(\"_median\")"
   ]
  },
  {
   "cell_type": "code",
   "execution_count": null,
   "id": "7bbfe4f6",
   "metadata": {},
   "outputs": [],
   "source": [
    "data[[\"Width\",\"CLASS\"]].groupby(\"CLASS\").std().add_suffix(\"_std\")"
   ]
  },
  {
   "cell_type": "markdown",
   "id": "fa63fa9d",
   "metadata": {},
   "source": [
    "### Feature Min vs Class"
   ]
  },
  {
   "cell_type": "code",
   "execution_count": null,
   "id": "a2957c4d",
   "metadata": {},
   "outputs": [],
   "source": [
    "plotter = Plotting(plot_option=2, x='Min', data=data)\n",
    "plotter.plot()"
   ]
  },
  {
   "cell_type": "code",
   "execution_count": null,
   "id": "c5594b3f",
   "metadata": {},
   "outputs": [],
   "source": [
    "data[[\"Min\",\"CLASS\"]].groupby(\"CLASS\").mean().add_suffix(\"_mean\").round(4)"
   ]
  },
  {
   "cell_type": "code",
   "execution_count": null,
   "id": "30ecdf77",
   "metadata": {},
   "outputs": [],
   "source": [
    "data[[\"Min\",\"CLASS\"]].groupby(\"CLASS\").median().add_suffix(\"_median\")"
   ]
  },
  {
   "cell_type": "code",
   "execution_count": null,
   "id": "5a46ccc7",
   "metadata": {},
   "outputs": [],
   "source": [
    "data[[\"Min\",\"CLASS\"]].groupby(\"CLASS\").std().add_suffix(\"_std\")"
   ]
  },
  {
   "cell_type": "markdown",
   "id": "204c0116",
   "metadata": {},
   "source": [
    "### Feature Max vs Class"
   ]
  },
  {
   "cell_type": "code",
   "execution_count": null,
   "id": "9d65dd88",
   "metadata": {},
   "outputs": [],
   "source": [
    "plotter = Plotting(plot_option=2, x='Max', data=data)\n",
    "plotter.plot()"
   ]
  },
  {
   "cell_type": "code",
   "execution_count": null,
   "id": "b44d1ff8",
   "metadata": {},
   "outputs": [],
   "source": [
    "data[[\"Max\",\"CLASS\"]].groupby(\"CLASS\").mean().add_suffix(\"_mean\").round(4)"
   ]
  },
  {
   "cell_type": "code",
   "execution_count": null,
   "id": "bdc678a3",
   "metadata": {},
   "outputs": [],
   "source": [
    "data[[\"Max\",\"CLASS\"]].groupby(\"CLASS\").median().add_suffix(\"_median\")"
   ]
  },
  {
   "cell_type": "code",
   "execution_count": null,
   "id": "9c63f416",
   "metadata": {},
   "outputs": [],
   "source": [
    "data[[\"Median\",\"CLASS\"]].groupby(\"CLASS\").std().add_suffix(\"_std\")"
   ]
  },
  {
   "cell_type": "markdown",
   "id": "c1bded34",
   "metadata": {},
   "source": [
    "### Feature Nmax vs Class"
   ]
  },
  {
   "cell_type": "code",
   "execution_count": null,
   "id": "80a5e469",
   "metadata": {},
   "outputs": [],
   "source": [
    "plotter = Plotting(plot_option=2, x='NMax', data=data)\n",
    "plotter.plot()"
   ]
  },
  {
   "cell_type": "code",
   "execution_count": null,
   "id": "25d32c80",
   "metadata": {},
   "outputs": [],
   "source": [
    "data[[\"Nmax\",\"CLASS\"]].groupby(\"CLASS\").mean().add_suffix(\"_mean\").round(4)"
   ]
  },
  {
   "cell_type": "code",
   "execution_count": null,
   "id": "f24eb0d6",
   "metadata": {},
   "outputs": [],
   "source": [
    "data[[\"Nmax\",\"CLASS\"]].groupby(\"CLASS\").median().add_suffix(\"_median\")"
   ]
  },
  {
   "cell_type": "code",
   "execution_count": null,
   "id": "6f5fe755",
   "metadata": {},
   "outputs": [],
   "source": [
    "data[[\"Nmax\",\"CLASS\"]].groupby(\"CLASS\").std().add_suffix(\"_std\")"
   ]
  },
  {
   "cell_type": "markdown",
   "id": "53002783",
   "metadata": {},
   "source": [
    "### Feature Nzeros vs Class"
   ]
  },
  {
   "cell_type": "code",
   "execution_count": null,
   "id": "a5f671d1",
   "metadata": {},
   "outputs": [],
   "source": [
    "plotter = Plotting(plot_option=2, x='NZeros', data=data)\n",
    "plotter.plot()"
   ]
  },
  {
   "cell_type": "code",
   "execution_count": null,
   "id": "6f0f5ac9",
   "metadata": {},
   "outputs": [],
   "source": [
    "data[[\"Nzeros\",\"CLASS\"]].groupby(\"CLASS\").mean().add_suffix(\"_mean\").round(4)"
   ]
  },
  {
   "cell_type": "code",
   "execution_count": null,
   "id": "db5b8c11",
   "metadata": {},
   "outputs": [],
   "source": [
    "data[[\"Nzeros\",\"CLASS\"]].groupby(\"CLASS\").median().add_suffix(\"_median\")"
   ]
  },
  {
   "cell_type": "code",
   "execution_count": null,
   "id": "9543a02b",
   "metadata": {},
   "outputs": [],
   "source": [
    "data[[\"Nzeros\",\"CLASS\"]].groupby(\"CLASS\").std().add_suffix(\"_std\")"
   ]
  },
  {
   "cell_type": "markdown",
   "id": "c7f8a78a",
   "metadata": {},
   "source": [
    "### Feature Mode vs Class"
   ]
  },
  {
   "cell_type": "code",
   "execution_count": null,
   "id": "1cb32053",
   "metadata": {},
   "outputs": [],
   "source": [
    "plotter = Plotting(plot_option=2, x='Mode', data=data)\n",
    "plotter.plot()"
   ]
  },
  {
   "cell_type": "code",
   "execution_count": null,
   "id": "d38f1b5c",
   "metadata": {},
   "outputs": [],
   "source": [
    "data[[\"Mode\",\"CLASS\"]].groupby(\"CLASS\").mean().add_suffix(\"_mean\").round(4)"
   ]
  },
  {
   "cell_type": "code",
   "execution_count": null,
   "id": "538d6b26",
   "metadata": {},
   "outputs": [],
   "source": [
    "data[[\"Mode\",\"CLASS\"]].groupby(\"CLASS\").median().add_suffix(\"_median\")"
   ]
  },
  {
   "cell_type": "code",
   "execution_count": null,
   "id": "fbcb88b8",
   "metadata": {},
   "outputs": [],
   "source": [
    "data[[\"Mode\",\"CLASS\"]].groupby(\"CLASS\").std().add_suffix(\"_std\")"
   ]
  },
  {
   "cell_type": "markdown",
   "id": "6e4053b6",
   "metadata": {},
   "source": [
    "### Feature Mean vs Class"
   ]
  },
  {
   "cell_type": "code",
   "execution_count": null,
   "id": "309e8fa7",
   "metadata": {},
   "outputs": [],
   "source": [
    "plotter = Plotting(plot_option=2, x='Mean', data=data)\n",
    "plotter.plot()"
   ]
  },
  {
   "cell_type": "code",
   "execution_count": null,
   "id": "bd273094",
   "metadata": {},
   "outputs": [],
   "source": [
    "data[[\"Mean\",\"CLASS\"]].groupby(\"CLASS\").mean().add_suffix(\"_mean\").round(4)"
   ]
  },
  {
   "cell_type": "code",
   "execution_count": null,
   "id": "a7820377",
   "metadata": {},
   "outputs": [],
   "source": [
    "data[[\"Mean\",\"CLASS\"]].groupby(\"CLASS\").median().add_suffix(\"_median\")"
   ]
  },
  {
   "cell_type": "code",
   "execution_count": null,
   "id": "a4166eb0",
   "metadata": {},
   "outputs": [],
   "source": [
    "data[[\"Mean\",\"CLASS\"]].groupby(\"CLASS\").std().add_suffix(\"_std\")"
   ]
  },
  {
   "cell_type": "markdown",
   "id": "5e45fac1",
   "metadata": {},
   "source": [
    "### Feature Median vs Class"
   ]
  },
  {
   "cell_type": "code",
   "execution_count": null,
   "id": "47c7e053",
   "metadata": {},
   "outputs": [],
   "source": [
    "plotter = Plotting(plot_option=2, x='Median', data=data)\n",
    "plotter.plot()"
   ]
  },
  {
   "cell_type": "code",
   "execution_count": null,
   "id": "986b1582",
   "metadata": {},
   "outputs": [],
   "source": [
    "data[[\"Median\",\"CLASS\"]].groupby(\"CLASS\").mean().add_suffix(\"_mean\").round(4)"
   ]
  },
  {
   "cell_type": "code",
   "execution_count": null,
   "id": "087fda18",
   "metadata": {},
   "outputs": [],
   "source": [
    "data[[\"Median\",\"CLASS\"]].groupby(\"CLASS\").median().add_suffix(\"_median\")"
   ]
  },
  {
   "cell_type": "code",
   "execution_count": null,
   "id": "a55baba6",
   "metadata": {},
   "outputs": [],
   "source": [
    "data[[\"Median\",\"CLASS\"]].groupby(\"CLASS\").std().add_suffix(\"_std\")"
   ]
  },
  {
   "cell_type": "markdown",
   "id": "a8c664d8",
   "metadata": {},
   "source": [
    "### Feature Variance vs Class"
   ]
  },
  {
   "cell_type": "code",
   "execution_count": null,
   "id": "4e490322",
   "metadata": {},
   "outputs": [],
   "source": [
    "plotter = Plotting(plot_option=2, x='Variance', data=data)\n",
    "plotter.plot()"
   ]
  },
  {
   "cell_type": "code",
   "execution_count": null,
   "id": "70f70e54",
   "metadata": {},
   "outputs": [],
   "source": [
    "data[[\"Variance\",\"CLASS\"]].groupby(\"CLASS\").mean().add_suffix(\"_mean\").round(4)"
   ]
  },
  {
   "cell_type": "code",
   "execution_count": null,
   "id": "db02e087",
   "metadata": {},
   "outputs": [],
   "source": [
    "data[[\"Variance\",\"CLASS\"]].groupby(\"CLASS\").median().add_suffix(\"_median\")"
   ]
  },
  {
   "cell_type": "code",
   "execution_count": null,
   "id": "090fcc93",
   "metadata": {},
   "outputs": [],
   "source": [
    "data[[\"Variance\",\"CLASS\"]].groupby(\"CLASS\").std().add_suffix(\"_std\")"
   ]
  },
  {
   "cell_type": "markdown",
   "id": "7d25e9cf",
   "metadata": {},
   "source": [
    "## Correlations"
   ]
  },
  {
   "cell_type": "code",
   "execution_count": null,
   "id": "5a0ab391",
   "metadata": {},
   "outputs": [],
   "source": [
    "data2 = data[['bl_FHR','accel','fetal_mov','uterine_contr','light_decel','severe_decel','prolong_decel','ASTV','MSTV','ALTV','MLTV','Width','Min','Max','Nmax','Nzeros','Mode','Mean','Median','Variance']]"
   ]
  },
  {
   "cell_type": "code",
   "execution_count": null,
   "id": "5d97c465",
   "metadata": {},
   "outputs": [],
   "source": [
    "corr_=data2.corr()\n",
    "corr_.style.background_gradient(cmap='coolwarm').format(precision=4)"
   ]
  },
  {
   "cell_type": "code",
   "execution_count": null,
   "id": "68192f7b",
   "metadata": {},
   "outputs": [],
   "source": [
    "## Only to show plots for possible pairings\n",
    "## No need to run this cell again, \n",
    "#sns.pairplot(data2)"
   ]
  },
  {
   "cell_type": "markdown",
   "id": "6fbd3c58",
   "metadata": {},
   "source": [
    "# Feature Engineering"
   ]
  },
  {
   "cell_type": "markdown",
   "id": "cf70b4e0",
   "metadata": {},
   "source": [
    "We are going to evaluate what is the best method for handling outliers on our Data Frame. Dropping them or Capping them."
   ]
  },
  {
   "cell_type": "markdown",
   "id": "94f6576f",
   "metadata": {},
   "source": [
    "## Handling Outliers (Dropping)"
   ]
  },
  {
   "cell_type": "code",
   "execution_count": null,
   "id": "bd8ebcc1",
   "metadata": {},
   "outputs": [],
   "source": [
    "#We copy the dataframe to drop outliers\n",
    "data2 = data.copy()\n",
    "data2"
   ]
  },
  {
   "cell_type": "code",
   "execution_count": null,
   "id": "1c3b40d7",
   "metadata": {},
   "outputs": [],
   "source": [
    "#Creating a list of the columns' names that have outliers\n",
    "col_outliers = ['fetal_mov', 'severe_decel', 'prolong_decel', 'MSTV', 'ALTV', 'MLTV', 'Max', 'Nzeros', 'Variance']"
   ]
  },
  {
   "cell_type": "code",
   "execution_count": null,
   "id": "29f39567",
   "metadata": {},
   "outputs": [],
   "source": [
    "for i in col_outliers:\n",
    "    factor = 3\n",
    "    upper_lim = data2[i].mean () + data2[i].std () * factor\n",
    "    lower_lim = data2[i].mean () - data2[i].std () * factor\n",
    "    data_outliers = data2[(data2[i] < upper_lim) & (data2[i] > lower_lim)]"
   ]
  },
  {
   "cell_type": "code",
   "execution_count": null,
   "id": "c528f5f8",
   "metadata": {},
   "outputs": [],
   "source": [
    "data_outliers[col_outliers].describe() #Here we can see the columns that have been modified (the ones with outliers)"
   ]
  },
  {
   "cell_type": "code",
   "execution_count": null,
   "id": "a5d1830b",
   "metadata": {},
   "outputs": [],
   "source": [
    "data[col_outliers].describe() #We display the orginial to compare them"
   ]
  },
  {
   "cell_type": "code",
   "execution_count": null,
   "id": "6467187f",
   "metadata": {},
   "outputs": [],
   "source": [
    "pd.set_option('display.max_columns', 500) #We increase the display for the columns"
   ]
  },
  {
   "cell_type": "code",
   "execution_count": null,
   "id": "f5a7aec2",
   "metadata": {},
   "outputs": [],
   "source": [
    "data_outliers.describe()  #Here we can see all the columns on the data frame where the outliers have been dropped"
   ]
  },
  {
   "cell_type": "code",
   "execution_count": null,
   "id": "95897581",
   "metadata": {},
   "outputs": [],
   "source": [
    "data.describe() #Here we can see all the columns on the original data frame"
   ]
  },
  {
   "cell_type": "markdown",
   "id": "8d651930",
   "metadata": {},
   "source": [
    "As we can see above, the stadisitc analysis of the columns, changes just a little bit compared to the original one."
   ]
  },
  {
   "cell_type": "markdown",
   "id": "e094408f",
   "metadata": {},
   "source": [
    "## Handling Outliers (Capping)"
   ]
  },
  {
   "cell_type": "code",
   "execution_count": null,
   "id": "93dbddfa",
   "metadata": {},
   "outputs": [],
   "source": [
    "data_cap = data.copy() #We copy the dataframe to cap the outliers\n",
    "data_cap"
   ]
  },
  {
   "cell_type": "code",
   "execution_count": null,
   "id": "69682c28",
   "metadata": {},
   "outputs": [],
   "source": [
    "#Capping the outlier rows with Percentiles\n",
    "for i in col_outliers:\n",
    "    upper_lim = data_cap[i].quantile(.95)\n",
    "    lower_lim = data_cap[i].quantile(.05) \n",
    "    data_cap.loc[(data_cap[i] > upper_lim),i] = upper_lim \n",
    "    data_cap.loc[(data_cap[i] < lower_lim),i] = lower_lim"
   ]
  },
  {
   "cell_type": "code",
   "execution_count": null,
   "id": "7f7a9a83",
   "metadata": {},
   "outputs": [],
   "source": [
    "data_cap.describe()  #Here we can see all the columns on the data frame where the outliers have been capped"
   ]
  },
  {
   "cell_type": "code",
   "execution_count": null,
   "id": "3d3f5f73",
   "metadata": {},
   "outputs": [],
   "source": [
    "data.describe() #Here we can see all the columns on the original data frame"
   ]
  },
  {
   "cell_type": "markdown",
   "id": "f0d71bcd",
   "metadata": {},
   "source": [
    "As we can see above, in the columns where the outliers existed, there's a bigger difference compared to the orignal\n",
    "data frame.\n",
    "\n",
    "We are opting for the use of dropping outliers because the changes in values only happens to the columns where outliers existed, leaving behind the other columns. This might have an impact on columns where relations existed. \n",
    "\n",
    "For example fetal_movement is usually associated with increases on the FHR, which are the accelerations. Fetal movement's mean value changes in the table where outliers are capped, but the mean of accelerations stays the same."
   ]
  },
  {
   "cell_type": "markdown",
   "id": "b4f6ccad",
   "metadata": {},
   "source": [
    "## Scaling (Normalization)"
   ]
  },
  {
   "cell_type": "code",
   "execution_count": null,
   "id": "a59c91de",
   "metadata": {},
   "outputs": [],
   "source": [
    "mmscaler = MinMaxScaler()\n",
    "\n",
    "data_norm = data.copy()"
   ]
  },
  {
   "cell_type": "code",
   "execution_count": null,
   "id": "af4667c8",
   "metadata": {},
   "outputs": [],
   "source": [
    "data_norm[col_outliers] = mmscaler.fit_transform(data_norm[col_outliers])"
   ]
  },
  {
   "cell_type": "code",
   "execution_count": null,
   "id": "4779b8b0",
   "metadata": {},
   "outputs": [],
   "source": [
    "data_norm[col_outliers].describe()"
   ]
  },
  {
   "cell_type": "markdown",
   "id": "578cc0a8",
   "metadata": {},
   "source": [
    "## Scaling (Standarization)"
   ]
  },
  {
   "cell_type": "code",
   "execution_count": null,
   "id": "17d160c4",
   "metadata": {},
   "outputs": [],
   "source": [
    "sc = StandardScaler()\n",
    "\n",
    "data_stand = data.copy()"
   ]
  },
  {
   "cell_type": "code",
   "execution_count": null,
   "id": "9c58242b",
   "metadata": {},
   "outputs": [],
   "source": [
    "data_stand[col_outliers] = sc.fit_transform(data_stand[col_outliers])"
   ]
  },
  {
   "cell_type": "code",
   "execution_count": null,
   "id": "276ec2e5",
   "metadata": {},
   "outputs": [],
   "source": [
    "data_stand[col_outliers].describe()"
   ]
  },
  {
   "attachments": {},
   "cell_type": "markdown",
   "id": "c30ead7e",
   "metadata": {},
   "source": [
    "# Algorithm"
   ]
  },
  {
   "attachments": {},
   "cell_type": "markdown",
   "id": "100e277a",
   "metadata": {},
   "source": [
    "We'll be using Random Forest Classifier for our algorithm and see the results of the three dataframes with different feature engineering techniques applied."
   ]
  },
  {
   "cell_type": "code",
   "execution_count": null,
   "id": "ba4af403",
   "metadata": {},
   "outputs": [],
   "source": [
    "#Capped Outliers\n",
    "\n",
    "#CLASS as target value\n",
    "X=data_cap.drop([\"CLASS\"],axis=1).copy()\n",
    "y=data_cap[\"CLASS\"]"
   ]
  },
  {
   "cell_type": "code",
   "execution_count": null,
   "id": "f4f327ef",
   "metadata": {},
   "outputs": [],
   "source": [
    "#splitting into train sets\n",
    "X_train, X_test, y_train, y_test = train_test_split(X, y, test_size=0.2, random_state=42)"
   ]
  },
  {
   "cell_type": "code",
   "execution_count": null,
   "id": "c6dc28ea",
   "metadata": {},
   "outputs": [],
   "source": [
    "rf = RandomForestClassifier(n_estimators=100, random_state=42)"
   ]
  },
  {
   "cell_type": "code",
   "execution_count": null,
   "id": "bd70d491",
   "metadata": {},
   "outputs": [],
   "source": [
    "rf.fit(X_train, y_train)"
   ]
  },
  {
   "cell_type": "code",
   "execution_count": null,
   "id": "ef196cbd",
   "metadata": {},
   "outputs": [],
   "source": [
    "y_pred = rf.predict(X_test)"
   ]
  },
  {
   "cell_type": "code",
   "execution_count": null,
   "id": "7674b2b7",
   "metadata": {},
   "outputs": [],
   "source": [
    "print(\"Accuracy:\", accuracy_score(y_test, y_pred))\n",
    "print(\"Confusion Matrix:\")\n",
    "print(confusion_matrix(y_test, y_pred))\n",
    "print(\"Classification Report:\")\n",
    "print(classification_report(y_test, y_pred))"
   ]
  },
  {
   "cell_type": "code",
   "execution_count": null,
   "id": "c64f2d9d",
   "metadata": {},
   "outputs": [],
   "source": [
    "plt.barh(list(X.columns),list(rf.feature_importances_))\n",
    "plt.title(\"Coefficient Weight\")\n",
    "plt.show()"
   ]
  },
  {
   "cell_type": "code",
   "execution_count": null,
   "id": "628f720a",
   "metadata": {},
   "outputs": [],
   "source": [
    "#Normalized Scaling\n",
    "\n",
    "#CLASS as target value\n",
    "X=data_norm.drop([\"CLASS\"],axis=1).copy()\n",
    "y=data_norm[\"CLASS\"]"
   ]
  },
  {
   "cell_type": "code",
   "execution_count": null,
   "id": "7251a6f4",
   "metadata": {},
   "outputs": [],
   "source": [
    "#splitting into train sets\n",
    "X_train, X_test, y_train, y_test = train_test_split(X, y, test_size=0.2, random_state=42)"
   ]
  },
  {
   "cell_type": "code",
   "execution_count": null,
   "id": "72e30058",
   "metadata": {},
   "outputs": [],
   "source": [
    "rf = RandomForestClassifier(n_estimators=100, random_state=42)"
   ]
  },
  {
   "cell_type": "code",
   "execution_count": null,
   "id": "a20d8569",
   "metadata": {},
   "outputs": [],
   "source": [
    "rf.fit(X_train, y_train)"
   ]
  },
  {
   "cell_type": "code",
   "execution_count": null,
   "id": "3d1511fe",
   "metadata": {},
   "outputs": [],
   "source": [
    "y_pred = rf.predict(X_test)"
   ]
  },
  {
   "cell_type": "code",
   "execution_count": null,
   "id": "b2d193f8",
   "metadata": {},
   "outputs": [],
   "source": [
    "plt.barh(list(X.columns),list(rf.feature_importances_))\n",
    "plt.title(\"Coefficient Weight\")\n",
    "plt.show()"
   ]
  },
  {
   "cell_type": "code",
   "execution_count": null,
   "id": "f93ac3f8",
   "metadata": {},
   "outputs": [],
   "source": [
    "print(\"Accuracy:\", accuracy_score(y_test, y_pred))"
   ]
  },
  {
   "cell_type": "code",
   "execution_count": null,
   "id": "f1241aa0",
   "metadata": {},
   "outputs": [],
   "source": [
    "#Standardized Scaling\n",
    "\n",
    "#CLASS as target value\n",
    "X=data_stand.drop([\"CLASS\"],axis=1).copy()\n",
    "y=data_stand[\"CLASS\"]"
   ]
  },
  {
   "cell_type": "code",
   "execution_count": null,
   "id": "b70d62b7",
   "metadata": {},
   "outputs": [],
   "source": [
    "#splitting into train sets\n",
    "X_train, X_test, y_train, y_test = train_test_split(X, y, test_size=0.2, random_state=42)"
   ]
  },
  {
   "cell_type": "code",
   "execution_count": null,
   "id": "22e181f2",
   "metadata": {},
   "outputs": [],
   "source": [
    "rf = RandomForestClassifier(n_estimators=100, random_state=42)"
   ]
  },
  {
   "cell_type": "code",
   "execution_count": null,
   "id": "d54f40fa",
   "metadata": {},
   "outputs": [],
   "source": [
    "rf.fit(X_train, y_train)"
   ]
  },
  {
   "cell_type": "code",
   "execution_count": null,
   "id": "9d697011",
   "metadata": {},
   "outputs": [],
   "source": [
    "y_pred = rf.predict(X_test)"
   ]
  },
  {
   "cell_type": "code",
   "execution_count": null,
   "id": "2cc6279d",
   "metadata": {},
   "outputs": [],
   "source": [
    "plt.barh(list(X.columns),list(rf.feature_importances_))\n",
    "plt.title(\"Coefficient Weight\")\n",
    "plt.show()"
   ]
  },
  {
   "cell_type": "code",
   "execution_count": null,
   "id": "9e8b047a",
   "metadata": {},
   "outputs": [],
   "source": [
    "print(\"Accuracy:\", accuracy_score(y_test, y_pred))"
   ]
  },
  {
   "attachments": {},
   "cell_type": "markdown",
   "id": "84d850c1",
   "metadata": {},
   "source": [
    "Overall, the three methods have the same results which means that each one can give coherent and satisfactory results. \n",
    "Also, we noticed that the columns with the most weight are the \"sleep\" and \"pattern\" related ones as well as accel, while most of them stay much lighter."
   ]
  }
 ],
 "metadata": {
  "kernelspec": {
   "display_name": "Python 3 (ipykernel)",
   "language": "python",
   "name": "python3"
  },
  "language_info": {
   "codemirror_mode": {
    "name": "ipython",
    "version": 3
   },
   "file_extension": ".py",
   "mimetype": "text/x-python",
   "name": "python",
   "nbconvert_exporter": "python",
   "pygments_lexer": "ipython3",
   "version": "3.11.5"
  },
  "vscode": {
   "interpreter": {
    "hash": "aee8b7b246df8f9039afb4144a1f6fd8d2ca17a180786b69acc140d282b71a49"
   }
  }
 },
 "nbformat": 4,
 "nbformat_minor": 5
}
